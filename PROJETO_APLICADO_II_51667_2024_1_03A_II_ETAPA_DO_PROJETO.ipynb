{
  "nbformat": 4,
  "nbformat_minor": 0,
  "metadata": {
    "colab": {
      "provenance": [],
      "authorship_tag": "ABX9TyOL1lrrhap3/mVh/yIjuTaL",
      "include_colab_link": true
    },
    "kernelspec": {
      "name": "python3",
      "display_name": "Python 3"
    },
    "language_info": {
      "name": "python"
    }
  },
  "cells": [
    {
      "cell_type": "markdown",
      "metadata": {
        "id": "view-in-github",
        "colab_type": "text"
      },
      "source": [
        "<a href=\"https://colab.research.google.com/github/AnaAleixo/PROJETO-APLICADO-II--Grupo-Cassandra-s/blob/main/PROJETO_APLICADO_II_51667_2024_1_03A_II_ETAPA_DO_PROJETO.ipynb\" target=\"_parent\"><img src=\"https://colab.research.google.com/assets/colab-badge.svg\" alt=\"Open In Colab\"/></a>"
      ]
    },
    {
      "cell_type": "markdown",
      "source": [
        "# PROJETO APLICADO II - CURSO TECNOLOGIA EM CIENCIA DE DADOS - ANO 2024 - 1º SEMESTRE - TURMA 03A\n",
        "\n",
        "Este projeto faz parte dos requisitos da atividade de conclusão da disciplina do Projeto Aplicado II, do Curso de Tecnologia em Ciência de Dados. Realizado no 1º Semestre de 2024, Turma 03A. O objetivo é aplicar os conhecimentos adquiridos ao longo do curso para abordar uma questão relevante, neste caso, a análise e prevenção da violência contra a mulher, com recorte no estado de Minas Gerais."
      ],
      "metadata": {
        "id": "_SzqDRKUKomI"
      }
    },
    {
      "cell_type": "markdown",
      "source": [
        "# PROJETO-APLICADO-II--Grupo-Cassandra's 🚀\n",
        "\n",
        "- INTEGRANTES\n",
        "\n",
        "    - Ana Lima Aleixo\n",
        "\n",
        "    - Maressa Bonassoli\n",
        "\n",
        "    - Ana Chung ti Kam"
      ],
      "metadata": {
        "id": "RotH5OB6KuBr"
      }
    },
    {
      "cell_type": "markdown",
      "source": [
        "# FASE II DO PROJETO APLICADO II\n",
        "Na Fase II do Projeto, iremos cumprir os seguintes requisitos para a entrega da Atividade II:\n",
        "\n",
        "**1. Gerenciamento de Código**\n",
        "   - Definiremos as bibliotecas (pacotes) da linguagem Python que serão utilizadas.\n",
        "   - Realizaremos a implantação de um repositório no Github para iniciar a execução colaborativa do trabalho.\n",
        "\n",
        "**2. Análise da Base de Dados**\n",
        "   - Definiremos a base de dados a ser utilizada.\n",
        "   - Realizaremos uma análise exploratória para compreender melhor os dados disponíveis.\n",
        "\n",
        "**3. Tratamento da Base de Dados**\n",
        "   - Prepararemos e trataremos a base de dados para garantir sua adequação ao propósito do projeto.\n",
        "\n",
        "**4. Fundamentação Teórica**\n",
        "   - Definiremos e descreveremos as bases teóricas dos métodos analíticos que serão aplicados.\n",
        "\n",
        "**5. Avaliação da Precisão**\n",
        "   - Descreveremos como será calculada a acurácia do modelo, fornecendo transparência sobre os critérios de avaliação.\n"
      ],
      "metadata": {
        "id": "0Pha619jLUO5"
      }
    },
    {
      "cell_type": "markdown",
      "source": [
        "# 1.0 DEFINIÇÃO DA LINGUAGEM E BIBLIOTECA\n",
        "\n",
        "- Iniciaremos com o uso das seguites bibliotecas da linguame Python.\n",
        "    - import pandas as pd\n",
        "    - import matplotlib.pyplot as plt\n",
        "    - import seaborn as sns\n",
        "    - import display\n",
        "\n",
        "- GitHub do Projeto\n",
        "\n",
        " https://github.com/AnaAleixo/PROJETO-APLICADO-II--Grupo-Cassandra-s"
      ],
      "metadata": {
        "id": "Ec4vFMCNN3Oc"
      }
    },
    {
      "cell_type": "markdown",
      "source": [
        "# 2.0 ANALISE DA BASE DE DADOS\n",
        " - Analisaremos as seguites bases de dados\n",
        "\n",
        " /content/violencia_domestica_2014.csv\n",
        "/content/violencia_domestica_2015.csv\n",
        "/content/violencia_domestica_2016.csv\n",
        "/content/violencia_domestica_2017.csv\n",
        "/content/violencia_domestica_2018-1.csv\n",
        "/content/violencia_domestica_2019.csv\n",
        "/content/violencia_domestica_2020.csv\n",
        "/content/violencia_domestica_2021.csv\n",
        "/content/violencia_domestica_2022.csv\n",
        "/content/violencia_domestica_2023.csv"
      ],
      "metadata": {
        "id": "TCzEyimxOgPL"
      }
    },
    {
      "cell_type": "markdown",
      "source": [
        "# 3.0 TRATAMENTO DAS BASES DE DADOS\n",
        "\n",
        "Iniciamos fazendo uma limpeza nos dados, eliminando linhas em branco e caracteres estranhos aos dados.\n",
        "\n",
        "Em seguida combinamos os arquivos CSV em um único arquivo para iniciarmos a Analise Exploratória dos dados\n",
        "\n"
      ],
      "metadata": {
        "id": "uRcBbdmSPc65"
      }
    },
    {
      "cell_type": "markdown",
      "source": [
        "#3.1 Instalando as Bibliotecas"
      ],
      "metadata": {
        "id": "I3sEvMszPqNo"
      }
    },
    {
      "cell_type": "code",
      "source": [
        "!pip install pandas\n"
      ],
      "metadata": {
        "id": "d_hZD56CbNvy",
        "colab": {
          "base_uri": "https://localhost:8080/"
        },
        "outputId": "8b5c4b7e-7dd9-44b4-b485-b52c7736eecc"
      },
      "execution_count": 1,
      "outputs": [
        {
          "output_type": "stream",
          "name": "stdout",
          "text": [
            "Requirement already satisfied: pandas in /usr/local/lib/python3.10/dist-packages (1.5.3)\n",
            "Requirement already satisfied: python-dateutil>=2.8.1 in /usr/local/lib/python3.10/dist-packages (from pandas) (2.8.2)\n",
            "Requirement already satisfied: pytz>=2020.1 in /usr/local/lib/python3.10/dist-packages (from pandas) (2023.4)\n",
            "Requirement already satisfied: numpy>=1.21.0 in /usr/local/lib/python3.10/dist-packages (from pandas) (1.25.2)\n",
            "Requirement already satisfied: six>=1.5 in /usr/local/lib/python3.10/dist-packages (from python-dateutil>=2.8.1->pandas) (1.16.0)\n"
          ]
        }
      ]
    },
    {
      "cell_type": "markdown",
      "source": [
        "##3.2  Combinando os arquivos em um único DataFrame.\n",
        "Combinamos cada arquivo CSV, utilizando o ponto e vírgula como delimitador para combinar todos DataFrame em um único DataFrame chamado dados_combinados. Em seguida, exportamos o novo DataFrame para um arquivo CSV chamado violencia_domestica_combinado.csv."
      ],
      "metadata": {
        "id": "IS7K596SQcBH"
      }
    },
    {
      "cell_type": "code",
      "source": [
        "import pandas as pd\n",
        "\n",
        "# Lista com os caminhos dos arquivos CSV\n",
        "caminhos_arquivos = [\n",
        "    '/content/violencia_domestica_2014.csv',\n",
        "    '/content/violencia_domestica_2015.csv',\n",
        "    '/content/violencia_domestica_2016.csv',\n",
        "    '/content/violencia_domestica_2017.csv',\n",
        "    '/content/violencia_domestica_2018-1.csv',\n",
        "    '/content/violencia_domestica_2019.csv',\n",
        "    '/content/violencia_domestica_2020.csv',\n",
        "    '/content/violencia_domestica_2021.csv',\n",
        "    '/content/violencia_domestica_2022.csv',\n",
        "    '/content/violencia_domestica_2023.csv'\n",
        "]\n",
        "\n",
        "# Lista para armazenar DataFrames de cada arquivo CSV\n",
        "dfs = []\n",
        "\n",
        "# Itera sobre os arquivos CSV e os combina\n",
        "for caminho_arquivo in caminhos_arquivos:\n",
        "    try:\n",
        "        # Utilizamos o ponto e vírgula como delimitador\n",
        "        df = pd.read_csv(caminho_arquivo, delimiter=';')\n",
        "        dfs.append(df)\n",
        "        print(f'Arquivo {caminho_arquivo} lido com sucesso.')\n",
        "    except Exception as e:\n",
        "        print(f'Erro ao ler o arquivo {caminho_arquivo}: {e}')\n",
        "\n",
        "# Combina os DataFrames em um único DataFrame\n",
        "dados_combinados = pd.concat(dfs, ignore_index=True)\n",
        "\n",
        "# Caminho para o novo arquivo CSV combinado\n",
        "caminho_saida = '/content/violencia_domestica_combinado.csv'\n",
        "\n",
        "try:\n",
        "    # Exporta o DataFrame combinado para um arquivo CSV\n",
        "    dados_combinados.to_csv(caminho_saida, index=False)\n",
        "    print(f'Arquivo combinado gerado com sucesso em {caminho_saida}.')\n",
        "except Exception as e:\n",
        "    print(f'Erro ao gerar o arquivo combinado: {e}')\n"
      ],
      "metadata": {
        "id": "AqXNsVanPcHX",
        "colab": {
          "base_uri": "https://localhost:8080/"
        },
        "outputId": "64926b27-de70-42e4-ab3b-e47686156049"
      },
      "execution_count": 3,
      "outputs": [
        {
          "output_type": "stream",
          "name": "stdout",
          "text": [
            "Arquivo /content/violencia_domestica_2014.csv lido com sucesso.\n",
            "Arquivo /content/violencia_domestica_2015.csv lido com sucesso.\n",
            "Arquivo /content/violencia_domestica_2016.csv lido com sucesso.\n",
            "Arquivo /content/violencia_domestica_2017.csv lido com sucesso.\n",
            "Arquivo /content/violencia_domestica_2018-1.csv lido com sucesso.\n",
            "Arquivo /content/violencia_domestica_2019.csv lido com sucesso.\n",
            "Arquivo /content/violencia_domestica_2020.csv lido com sucesso.\n",
            "Arquivo /content/violencia_domestica_2021.csv lido com sucesso.\n",
            "Arquivo /content/violencia_domestica_2022.csv lido com sucesso.\n",
            "Arquivo /content/violencia_domestica_2023.csv lido com sucesso.\n",
            "Arquivo combinado gerado com sucesso em /content/violencia_domestica_combinado.csv.\n"
          ]
        }
      ]
    },
    {
      "cell_type": "markdown",
      "source": [
        "# 3.2 Fazendo Análises Exploratórias na Base de Dados\n",
        " Nessa fase iremos explorar os dados com o objetivo de identificar padrões, tendências e possíveis anomalias nos dados. Vamos usar visualizações gráficas (gráficos, histogramas, mapas etc.) para entender a distribuição e relações entre as variáveis e considerar questões como sazonalidade, correlações entre variáveis e outros insights relevantes.\n",
        "\n",
        "- Começamos visualizando as primeiras linhas do DataFrame do novo arquivo gerado para ter uma ideia inicial dos dados.\n",
        "\n",
        "\n"
      ],
      "metadata": {
        "id": "-LN34LvRsSAE"
      }
    },
    {
      "cell_type": "code",
      "source": [
        "import pandas as pd\n",
        "from IPython.display import display, HTML\n",
        "\n",
        "# Caminho para o arquivo CSV combinado\n",
        "caminho_combinado = '/content/violencia_domestica_combinado.csv'\n",
        "\n",
        "# Lê o arquivo CSV\n",
        "dados_combinados = pd.read_csv(caminho_combinado)\n",
        "\n",
        "# Visualiza as primeiras linhas do DataFrame\n",
        "# dados_combinados.head()\n",
        "\n",
        "# Exibe as primeiras linhas do DataFrame em uma tabela HTML\n",
        "display(HTML(dados_combinados.head().to_html(index=False)))"
      ],
      "metadata": {
        "id": "cndqVYuePcMk",
        "colab": {
          "base_uri": "https://localhost:8080/",
          "height": 206
        },
        "outputId": "71af3cae-8940-48de-9007-0ec93e3e1564"
      },
      "execution_count": null,
      "outputs": [
        {
          "output_type": "display_data",
          "data": {
            "text/plain": [
              "<IPython.core.display.HTML object>"
            ],
            "text/html": [
              "<table border=\"1\" class=\"dataframe\">\n",
              "  <thead>\n",
              "    <tr style=\"text-align: right;\">\n",
              "      <th>municipio_fato</th>\n",
              "      <th>mes</th>\n",
              "      <th>ano</th>\n",
              "      <th>rmbh</th>\n",
              "      <th>natureza_delito</th>\n",
              "      <th>tentado_consumado</th>\n",
              "      <th>qtde_vitimas</th>\n",
              "    </tr>\n",
              "  </thead>\n",
              "  <tbody>\n",
              "    <tr>\n",
              "      <td>ABADIA DOS DOURADOS</td>\n",
              "      <td>1.0</td>\n",
              "      <td>2014.0</td>\n",
              "      <td>3) Interior de MG</td>\n",
              "      <td>DANO</td>\n",
              "      <td>CONSUMADO</td>\n",
              "      <td>1.0</td>\n",
              "    </tr>\n",
              "    <tr>\n",
              "      <td>ABRE-CAMPO</td>\n",
              "      <td>1.0</td>\n",
              "      <td>2014.0</td>\n",
              "      <td>3) Interior de MG</td>\n",
              "      <td>LESAO CORPORAL</td>\n",
              "      <td>CONSUMADO</td>\n",
              "      <td>1.0</td>\n",
              "    </tr>\n",
              "    <tr>\n",
              "      <td>ACAIACA</td>\n",
              "      <td>1.0</td>\n",
              "      <td>2014.0</td>\n",
              "      <td>3) Interior de MG</td>\n",
              "      <td>AMEACA</td>\n",
              "      <td>CONSUMADO</td>\n",
              "      <td>1.0</td>\n",
              "    </tr>\n",
              "    <tr>\n",
              "      <td>AGUA BOA</td>\n",
              "      <td>1.0</td>\n",
              "      <td>2014.0</td>\n",
              "      <td>3) Interior de MG</td>\n",
              "      <td>AMEACA</td>\n",
              "      <td>CONSUMADO</td>\n",
              "      <td>1.0</td>\n",
              "    </tr>\n",
              "    <tr>\n",
              "      <td>AGUA BOA</td>\n",
              "      <td>1.0</td>\n",
              "      <td>2014.0</td>\n",
              "      <td>3) Interior de MG</td>\n",
              "      <td>VIAS DE FATO / AGRESSAO</td>\n",
              "      <td>CONSUMADO</td>\n",
              "      <td>1.0</td>\n",
              "    </tr>\n",
              "  </tbody>\n",
              "</table>"
            ]
          },
          "metadata": {}
        }
      ]
    },
    {
      "cell_type": "markdown",
      "source": [
        " # 3.3 Análise Descritiva\n",
        " Iniciaremos fazendo uma análise descritiva, com o objetivo de melhor compreender os dados e assim, identificar padrões preliminares e obter insights antes de avançar para a modelagem de classificação."
      ],
      "metadata": {
        "id": "eLHdG3couijC"
      }
    },
    {
      "cell_type": "markdown",
      "source": [
        "# 3.3.1 Estatísticas Descritivas\n",
        "Calcular as variáveis relevantes, como médias, medianas, desvios padrão, mínimos e máximos. A fim de obter uma visão geral das características dos dados."
      ],
      "metadata": {
        "id": "5rPwAS_Cusms"
      }
    },
    {
      "cell_type": "code",
      "source": [
        "# Estatísticas descritivas\n",
        "descritivas = dados_combinados.describe(include='all')\n",
        "print(descritivas)\n"
      ],
      "metadata": {
        "colab": {
          "base_uri": "https://localhost:8080/"
        },
        "id": "h0elJpjvui5v",
        "outputId": "3733d343-f5ea-4ba8-a6cd-add22fd4a54c"
      },
      "execution_count": 4,
      "outputs": [
        {
          "output_type": "stream",
          "name": "stdout",
          "text": [
            "        municipio_fato            mes            ano               rmbh  \\\n",
            "count           990169  990169.000000  990169.000000             990169   \n",
            "unique             853            NaN            NaN                  3   \n",
            "top     BELO HORIZONTE            NaN            NaN  3) Interior de MG   \n",
            "freq             41877            NaN            NaN             823912   \n",
            "mean               NaN       6.384882    2018.314055                NaN   \n",
            "std                NaN       3.485494       2.774878                NaN   \n",
            "min                NaN       1.000000    2014.000000                NaN   \n",
            "25%                NaN       3.000000    2016.000000                NaN   \n",
            "50%                NaN       6.000000    2018.000000                NaN   \n",
            "75%                NaN       9.000000    2021.000000                NaN   \n",
            "max                NaN      12.000000    2023.000000                NaN   \n",
            "\n",
            "       natureza_delito tentado_consumado   qtde_vitimas  \n",
            "count           990169            990169  990169.000000  \n",
            "unique             368                 3            NaN  \n",
            "top             AMEACA         CONSUMADO            NaN  \n",
            "freq            299501            978162            NaN  \n",
            "mean               NaN               NaN       1.430635  \n",
            "std                NaN               NaN       1.527565  \n",
            "min                NaN               NaN       1.000000  \n",
            "25%                NaN               NaN       1.000000  \n",
            "50%                NaN               NaN       1.000000  \n",
            "75%                NaN               NaN       1.000000  \n",
            "max                NaN               NaN      38.000000  \n"
          ]
        }
      ]
    },
    {
      "cell_type": "markdown",
      "source": [
        "# 3.4 Contagem de Valores Únicos\n",
        "Objetivo é obter a contagem de valores únicos para variáveis categóricas, como 'natureza_delito', para entender a diversidade dos incidentes."
      ],
      "metadata": {
        "id": "qI_YtMOFvgoU"
      }
    },
    {
      "cell_type": "code",
      "source": [
        "# Contagem de valores únicos para variáveis categóricas\n",
        "contagem_categorias = dados_combinados['tentado_consumado'].value_counts()\n",
        "print(contagem_categorias)\n"
      ],
      "metadata": {
        "colab": {
          "base_uri": "https://localhost:8080/"
        },
        "id": "-WjOt1NM586O",
        "outputId": "d1ed4978-eb1f-40f0-9530-d9d56f06cd77"
      },
      "execution_count": 5,
      "outputs": [
        {
          "output_type": "stream",
          "name": "stdout",
          "text": [
            "CONSUMADO                 978162\n",
            "TENTADO                    11986\n",
            "PREENCHIMENTO OPCIONAL        21\n",
            "Name: tentado_consumado, dtype: int64\n"
          ]
        }
      ]
    },
    {
      "cell_type": "markdown",
      "source": [
        "# 3.5 Médias Mensal de Vítimas"
      ],
      "metadata": {
        "id": "3K1gJEeyuXFX"
      }
    },
    {
      "cell_type": "code",
      "source": [
        "import pandas as pd\n",
        "from IPython.display import display, HTML\n",
        "\n",
        "# Caminho para o arquivo CSV combinado\n",
        "caminho_combinado = '/content/violencia_domestica_combinado.csv'\n",
        "\n",
        "# Lê o arquivo CSV\n",
        "dados_combinados = pd.read_csv(caminho_combinado)\n",
        "\n",
        "# Lista para armazenar os DataFrames de médias por ano\n",
        "medias_por_ano = []\n",
        "\n",
        "# Loop de 2014 a 2023\n",
        "for ano in range(2014, 2024):\n",
        "    dados_ano = dados_combinados[dados_combinados['ano'] == ano]\n",
        "    media_crimes_ano = dados_ano.groupby('mes')['qtde_vitimas'].mean().reset_index()\n",
        "    # Adiciona uma coluna para indicar o ano\n",
        "    media_crimes_ano['Ano'] = ano\n",
        "    medias_por_ano.append(media_crimes_ano)\n",
        "\n",
        "# Concatena os DataFrames ao longo do eixo das colunas\n",
        "resultado_final = pd.concat(medias_por_ano, axis=1)\n",
        "\n",
        "# Exibe o resultado final em uma tabela HTML\n",
        "display(HTML(resultado_final.to_html(index=False)))"
      ],
      "metadata": {
        "colab": {
          "base_uri": "https://localhost:8080/",
          "height": 446
        },
        "id": "iWt-Tq_7uXVA",
        "outputId": "0adbaaca-a0de-46b6-c624-71b26d0c2cdb"
      },
      "execution_count": 31,
      "outputs": [
        {
          "output_type": "display_data",
          "data": {
            "text/plain": [
              "<IPython.core.display.HTML object>"
            ],
            "text/html": [
              "<table border=\"1\" class=\"dataframe\">\n",
              "  <thead>\n",
              "    <tr style=\"text-align: right;\">\n",
              "      <th>mes</th>\n",
              "      <th>qtde_vitimas</th>\n",
              "      <th>Ano</th>\n",
              "      <th>mes</th>\n",
              "      <th>qtde_vitimas</th>\n",
              "      <th>Ano</th>\n",
              "      <th>mes</th>\n",
              "      <th>qtde_vitimas</th>\n",
              "      <th>Ano</th>\n",
              "      <th>mes</th>\n",
              "      <th>qtde_vitimas</th>\n",
              "      <th>Ano</th>\n",
              "      <th>mes</th>\n",
              "      <th>qtde_vitimas</th>\n",
              "      <th>Ano</th>\n",
              "      <th>mes</th>\n",
              "      <th>qtde_vitimas</th>\n",
              "      <th>Ano</th>\n",
              "      <th>mes</th>\n",
              "      <th>qtde_vitimas</th>\n",
              "      <th>Ano</th>\n",
              "      <th>mes</th>\n",
              "      <th>qtde_vitimas</th>\n",
              "      <th>Ano</th>\n",
              "      <th>mes</th>\n",
              "      <th>qtde_vitimas</th>\n",
              "      <th>Ano</th>\n",
              "      <th>mes</th>\n",
              "      <th>qtde_vitimas</th>\n",
              "      <th>Ano</th>\n",
              "    </tr>\n",
              "  </thead>\n",
              "  <tbody>\n",
              "    <tr>\n",
              "      <td>1.0</td>\n",
              "      <td>1.523330</td>\n",
              "      <td>2014</td>\n",
              "      <td>1.0</td>\n",
              "      <td>1.479754</td>\n",
              "      <td>2015</td>\n",
              "      <td>1.0</td>\n",
              "      <td>1.444683</td>\n",
              "      <td>2016</td>\n",
              "      <td>1.0</td>\n",
              "      <td>1.444709</td>\n",
              "      <td>2017</td>\n",
              "      <td>1.0</td>\n",
              "      <td>1.460466</td>\n",
              "      <td>2018</td>\n",
              "      <td>1.0</td>\n",
              "      <td>1.477923</td>\n",
              "      <td>2019</td>\n",
              "      <td>1.0</td>\n",
              "      <td>1.460065</td>\n",
              "      <td>2020</td>\n",
              "      <td>1.0</td>\n",
              "      <td>1.450222</td>\n",
              "      <td>2021</td>\n",
              "      <td>1.0</td>\n",
              "      <td>1.385651</td>\n",
              "      <td>2022</td>\n",
              "      <td>1.0</td>\n",
              "      <td>1.410590</td>\n",
              "      <td>2023.0</td>\n",
              "    </tr>\n",
              "    <tr>\n",
              "      <td>2.0</td>\n",
              "      <td>1.475578</td>\n",
              "      <td>2014</td>\n",
              "      <td>2.0</td>\n",
              "      <td>1.453023</td>\n",
              "      <td>2015</td>\n",
              "      <td>2.0</td>\n",
              "      <td>1.460164</td>\n",
              "      <td>2016</td>\n",
              "      <td>2.0</td>\n",
              "      <td>1.434470</td>\n",
              "      <td>2017</td>\n",
              "      <td>2.0</td>\n",
              "      <td>1.423039</td>\n",
              "      <td>2018</td>\n",
              "      <td>2.0</td>\n",
              "      <td>1.448170</td>\n",
              "      <td>2019</td>\n",
              "      <td>2.0</td>\n",
              "      <td>1.441797</td>\n",
              "      <td>2020</td>\n",
              "      <td>2.0</td>\n",
              "      <td>1.413126</td>\n",
              "      <td>2021</td>\n",
              "      <td>2.0</td>\n",
              "      <td>1.393752</td>\n",
              "      <td>2022</td>\n",
              "      <td>2.0</td>\n",
              "      <td>1.423986</td>\n",
              "      <td>2023.0</td>\n",
              "    </tr>\n",
              "    <tr>\n",
              "      <td>3.0</td>\n",
              "      <td>1.478061</td>\n",
              "      <td>2014</td>\n",
              "      <td>3.0</td>\n",
              "      <td>1.468457</td>\n",
              "      <td>2015</td>\n",
              "      <td>3.0</td>\n",
              "      <td>1.439959</td>\n",
              "      <td>2016</td>\n",
              "      <td>3.0</td>\n",
              "      <td>1.455874</td>\n",
              "      <td>2017</td>\n",
              "      <td>3.0</td>\n",
              "      <td>1.453824</td>\n",
              "      <td>2018</td>\n",
              "      <td>3.0</td>\n",
              "      <td>1.464651</td>\n",
              "      <td>2019</td>\n",
              "      <td>3.0</td>\n",
              "      <td>1.432601</td>\n",
              "      <td>2020</td>\n",
              "      <td>3.0</td>\n",
              "      <td>1.402173</td>\n",
              "      <td>2021</td>\n",
              "      <td>3.0</td>\n",
              "      <td>1.376832</td>\n",
              "      <td>2022</td>\n",
              "      <td>3.0</td>\n",
              "      <td>1.404528</td>\n",
              "      <td>2023.0</td>\n",
              "    </tr>\n",
              "    <tr>\n",
              "      <td>4.0</td>\n",
              "      <td>1.470699</td>\n",
              "      <td>2014</td>\n",
              "      <td>4.0</td>\n",
              "      <td>1.455805</td>\n",
              "      <td>2015</td>\n",
              "      <td>4.0</td>\n",
              "      <td>1.450290</td>\n",
              "      <td>2016</td>\n",
              "      <td>4.0</td>\n",
              "      <td>1.462690</td>\n",
              "      <td>2017</td>\n",
              "      <td>4.0</td>\n",
              "      <td>1.427516</td>\n",
              "      <td>2018</td>\n",
              "      <td>4.0</td>\n",
              "      <td>1.444827</td>\n",
              "      <td>2019</td>\n",
              "      <td>4.0</td>\n",
              "      <td>1.388759</td>\n",
              "      <td>2020</td>\n",
              "      <td>4.0</td>\n",
              "      <td>1.411465</td>\n",
              "      <td>2021</td>\n",
              "      <td>4.0</td>\n",
              "      <td>1.376257</td>\n",
              "      <td>2022</td>\n",
              "      <td>4.0</td>\n",
              "      <td>1.401707</td>\n",
              "      <td>2023.0</td>\n",
              "    </tr>\n",
              "    <tr>\n",
              "      <td>5.0</td>\n",
              "      <td>1.475342</td>\n",
              "      <td>2014</td>\n",
              "      <td>5.0</td>\n",
              "      <td>1.429878</td>\n",
              "      <td>2015</td>\n",
              "      <td>5.0</td>\n",
              "      <td>1.434427</td>\n",
              "      <td>2016</td>\n",
              "      <td>5.0</td>\n",
              "      <td>1.441300</td>\n",
              "      <td>2017</td>\n",
              "      <td>5.0</td>\n",
              "      <td>1.415454</td>\n",
              "      <td>2018</td>\n",
              "      <td>5.0</td>\n",
              "      <td>1.421504</td>\n",
              "      <td>2019</td>\n",
              "      <td>5.0</td>\n",
              "      <td>1.384422</td>\n",
              "      <td>2020</td>\n",
              "      <td>5.0</td>\n",
              "      <td>1.400188</td>\n",
              "      <td>2021</td>\n",
              "      <td>5.0</td>\n",
              "      <td>1.338149</td>\n",
              "      <td>2022</td>\n",
              "      <td>5.0</td>\n",
              "      <td>1.387590</td>\n",
              "      <td>2023.0</td>\n",
              "    </tr>\n",
              "    <tr>\n",
              "      <td>6.0</td>\n",
              "      <td>1.464120</td>\n",
              "      <td>2014</td>\n",
              "      <td>6.0</td>\n",
              "      <td>1.428794</td>\n",
              "      <td>2015</td>\n",
              "      <td>6.0</td>\n",
              "      <td>1.405541</td>\n",
              "      <td>2016</td>\n",
              "      <td>6.0</td>\n",
              "      <td>1.417653</td>\n",
              "      <td>2017</td>\n",
              "      <td>6.0</td>\n",
              "      <td>1.419909</td>\n",
              "      <td>2018</td>\n",
              "      <td>6.0</td>\n",
              "      <td>1.415340</td>\n",
              "      <td>2019</td>\n",
              "      <td>6.0</td>\n",
              "      <td>1.401778</td>\n",
              "      <td>2020</td>\n",
              "      <td>6.0</td>\n",
              "      <td>1.388524</td>\n",
              "      <td>2021</td>\n",
              "      <td>6.0</td>\n",
              "      <td>1.358042</td>\n",
              "      <td>2022</td>\n",
              "      <td>6.0</td>\n",
              "      <td>1.355853</td>\n",
              "      <td>2023.0</td>\n",
              "    </tr>\n",
              "    <tr>\n",
              "      <td>7.0</td>\n",
              "      <td>1.455099</td>\n",
              "      <td>2014</td>\n",
              "      <td>7.0</td>\n",
              "      <td>1.413709</td>\n",
              "      <td>2015</td>\n",
              "      <td>7.0</td>\n",
              "      <td>1.455619</td>\n",
              "      <td>2016</td>\n",
              "      <td>7.0</td>\n",
              "      <td>1.411221</td>\n",
              "      <td>2017</td>\n",
              "      <td>7.0</td>\n",
              "      <td>1.429604</td>\n",
              "      <td>2018</td>\n",
              "      <td>7.0</td>\n",
              "      <td>1.389851</td>\n",
              "      <td>2019</td>\n",
              "      <td>7.0</td>\n",
              "      <td>1.386231</td>\n",
              "      <td>2020</td>\n",
              "      <td>7.0</td>\n",
              "      <td>1.390970</td>\n",
              "      <td>2021</td>\n",
              "      <td>7.0</td>\n",
              "      <td>1.362426</td>\n",
              "      <td>2022</td>\n",
              "      <td>7.0</td>\n",
              "      <td>1.368006</td>\n",
              "      <td>2023.0</td>\n",
              "    </tr>\n",
              "    <tr>\n",
              "      <td>8.0</td>\n",
              "      <td>1.468254</td>\n",
              "      <td>2014</td>\n",
              "      <td>8.0</td>\n",
              "      <td>1.441519</td>\n",
              "      <td>2015</td>\n",
              "      <td>8.0</td>\n",
              "      <td>1.432276</td>\n",
              "      <td>2016</td>\n",
              "      <td>8.0</td>\n",
              "      <td>1.426528</td>\n",
              "      <td>2017</td>\n",
              "      <td>8.0</td>\n",
              "      <td>1.431499</td>\n",
              "      <td>2018</td>\n",
              "      <td>8.0</td>\n",
              "      <td>1.432416</td>\n",
              "      <td>2019</td>\n",
              "      <td>8.0</td>\n",
              "      <td>1.409393</td>\n",
              "      <td>2020</td>\n",
              "      <td>8.0</td>\n",
              "      <td>1.390122</td>\n",
              "      <td>2021</td>\n",
              "      <td>8.0</td>\n",
              "      <td>1.358574</td>\n",
              "      <td>2022</td>\n",
              "      <td>NaN</td>\n",
              "      <td>NaN</td>\n",
              "      <td>NaN</td>\n",
              "    </tr>\n",
              "    <tr>\n",
              "      <td>9.0</td>\n",
              "      <td>1.477660</td>\n",
              "      <td>2014</td>\n",
              "      <td>9.0</td>\n",
              "      <td>1.466827</td>\n",
              "      <td>2015</td>\n",
              "      <td>9.0</td>\n",
              "      <td>1.446404</td>\n",
              "      <td>2016</td>\n",
              "      <td>9.0</td>\n",
              "      <td>1.419688</td>\n",
              "      <td>2017</td>\n",
              "      <td>9.0</td>\n",
              "      <td>1.444610</td>\n",
              "      <td>2018</td>\n",
              "      <td>9.0</td>\n",
              "      <td>1.449862</td>\n",
              "      <td>2019</td>\n",
              "      <td>9.0</td>\n",
              "      <td>1.413993</td>\n",
              "      <td>2020</td>\n",
              "      <td>9.0</td>\n",
              "      <td>1.407747</td>\n",
              "      <td>2021</td>\n",
              "      <td>9.0</td>\n",
              "      <td>1.376066</td>\n",
              "      <td>2022</td>\n",
              "      <td>NaN</td>\n",
              "      <td>NaN</td>\n",
              "      <td>NaN</td>\n",
              "    </tr>\n",
              "    <tr>\n",
              "      <td>10.0</td>\n",
              "      <td>1.490353</td>\n",
              "      <td>2014</td>\n",
              "      <td>10.0</td>\n",
              "      <td>1.467534</td>\n",
              "      <td>2015</td>\n",
              "      <td>10.0</td>\n",
              "      <td>1.466116</td>\n",
              "      <td>2016</td>\n",
              "      <td>10.0</td>\n",
              "      <td>1.466967</td>\n",
              "      <td>2017</td>\n",
              "      <td>10.0</td>\n",
              "      <td>1.462624</td>\n",
              "      <td>2018</td>\n",
              "      <td>10.0</td>\n",
              "      <td>1.456860</td>\n",
              "      <td>2019</td>\n",
              "      <td>10.0</td>\n",
              "      <td>1.416459</td>\n",
              "      <td>2020</td>\n",
              "      <td>10.0</td>\n",
              "      <td>1.408391</td>\n",
              "      <td>2021</td>\n",
              "      <td>10.0</td>\n",
              "      <td>1.399851</td>\n",
              "      <td>2022</td>\n",
              "      <td>NaN</td>\n",
              "      <td>NaN</td>\n",
              "      <td>NaN</td>\n",
              "    </tr>\n",
              "    <tr>\n",
              "      <td>11.0</td>\n",
              "      <td>1.498011</td>\n",
              "      <td>2014</td>\n",
              "      <td>11.0</td>\n",
              "      <td>1.470770</td>\n",
              "      <td>2015</td>\n",
              "      <td>11.0</td>\n",
              "      <td>1.429966</td>\n",
              "      <td>2016</td>\n",
              "      <td>11.0</td>\n",
              "      <td>1.438370</td>\n",
              "      <td>2017</td>\n",
              "      <td>11.0</td>\n",
              "      <td>1.432442</td>\n",
              "      <td>2018</td>\n",
              "      <td>11.0</td>\n",
              "      <td>1.470953</td>\n",
              "      <td>2019</td>\n",
              "      <td>11.0</td>\n",
              "      <td>1.421718</td>\n",
              "      <td>2020</td>\n",
              "      <td>11.0</td>\n",
              "      <td>1.390918</td>\n",
              "      <td>2021</td>\n",
              "      <td>11.0</td>\n",
              "      <td>1.372359</td>\n",
              "      <td>2022</td>\n",
              "      <td>NaN</td>\n",
              "      <td>NaN</td>\n",
              "      <td>NaN</td>\n",
              "    </tr>\n",
              "    <tr>\n",
              "      <td>12.0</td>\n",
              "      <td>1.469541</td>\n",
              "      <td>2014</td>\n",
              "      <td>12.0</td>\n",
              "      <td>1.471680</td>\n",
              "      <td>2015</td>\n",
              "      <td>12.0</td>\n",
              "      <td>1.440098</td>\n",
              "      <td>2016</td>\n",
              "      <td>12.0</td>\n",
              "      <td>1.455734</td>\n",
              "      <td>2017</td>\n",
              "      <td>12.0</td>\n",
              "      <td>1.452435</td>\n",
              "      <td>2018</td>\n",
              "      <td>12.0</td>\n",
              "      <td>1.468927</td>\n",
              "      <td>2019</td>\n",
              "      <td>12.0</td>\n",
              "      <td>1.419825</td>\n",
              "      <td>2020</td>\n",
              "      <td>12.0</td>\n",
              "      <td>1.392516</td>\n",
              "      <td>2021</td>\n",
              "      <td>12.0</td>\n",
              "      <td>1.397502</td>\n",
              "      <td>2022</td>\n",
              "      <td>NaN</td>\n",
              "      <td>NaN</td>\n",
              "      <td>NaN</td>\n",
              "    </tr>\n",
              "  </tbody>\n",
              "</table>"
            ]
          },
          "metadata": {}
        }
      ]
    },
    {
      "cell_type": "markdown",
      "source": [
        "# 3.6 Médias Aritméticas de Vítimas por Ano"
      ],
      "metadata": {
        "id": "Oa4GSsjwvk45"
      }
    },
    {
      "cell_type": "code",
      "source": [
        "import pandas as pd\n",
        "from IPython.display import display, HTML\n",
        "\n",
        "# Caminho para o arquivo CSV combinado\n",
        "caminho_combinado = '/content/violencia_domestica_combinado.csv'\n",
        "\n",
        "# Lê o arquivo CSV\n",
        "dados_combinados = pd.read_csv(caminho_combinado)\n",
        "\n",
        "# Calcula a média aritmética dos meses para cada ano\n",
        "media_aritmetica_anual = dados_combinados.groupby(['ano', 'mes'])['qtde_vitimas'].mean().reset_index()\n",
        "\n",
        "# Calcula as médias aritméticas anuais para cada ano\n",
        "medias_aritmeticas_por_ano = media_aritmetica_anual.groupby('ano')['qtde_vitimas'].mean().reset_index()\n",
        "\n",
        "# Exibe o DataFrame com as médias aritméticas anuais\n",
        "print(\"Médias Aritméticas Anuais:\")\n",
        "display(HTML(medias_aritmeticas_por_ano.to_html(index=False)))"
      ],
      "metadata": {
        "colab": {
          "base_uri": "https://localhost:8080/",
          "height": 380
        },
        "id": "WuEQ2rIIvmM4",
        "outputId": "82be6054-ebfe-4787-acc0-7e893c553c5a"
      },
      "execution_count": 33,
      "outputs": [
        {
          "output_type": "stream",
          "name": "stdout",
          "text": [
            "Médias Aritméticas Anuais:\n"
          ]
        },
        {
          "output_type": "display_data",
          "data": {
            "text/plain": [
              "<IPython.core.display.HTML object>"
            ],
            "text/html": [
              "<table border=\"1\" class=\"dataframe\">\n",
              "  <thead>\n",
              "    <tr style=\"text-align: right;\">\n",
              "      <th>ano</th>\n",
              "      <th>qtde_vitimas</th>\n",
              "    </tr>\n",
              "  </thead>\n",
              "  <tbody>\n",
              "    <tr>\n",
              "      <td>2014.0</td>\n",
              "      <td>1.478837</td>\n",
              "    </tr>\n",
              "    <tr>\n",
              "      <td>2015.0</td>\n",
              "      <td>1.453979</td>\n",
              "    </tr>\n",
              "    <tr>\n",
              "      <td>2016.0</td>\n",
              "      <td>1.442129</td>\n",
              "    </tr>\n",
              "    <tr>\n",
              "      <td>2017.0</td>\n",
              "      <td>1.439600</td>\n",
              "    </tr>\n",
              "    <tr>\n",
              "      <td>2018.0</td>\n",
              "      <td>1.437785</td>\n",
              "    </tr>\n",
              "    <tr>\n",
              "      <td>2019.0</td>\n",
              "      <td>1.445107</td>\n",
              "    </tr>\n",
              "    <tr>\n",
              "      <td>2020.0</td>\n",
              "      <td>1.414753</td>\n",
              "    </tr>\n",
              "    <tr>\n",
              "      <td>2021.0</td>\n",
              "      <td>1.403863</td>\n",
              "    </tr>\n",
              "    <tr>\n",
              "      <td>2022.0</td>\n",
              "      <td>1.374622</td>\n",
              "    </tr>\n",
              "    <tr>\n",
              "      <td>2023.0</td>\n",
              "      <td>1.393180</td>\n",
              "    </tr>\n",
              "  </tbody>\n",
              "</table>"
            ]
          },
          "metadata": {}
        }
      ]
    },
    {
      "cell_type": "markdown",
      "source": [
        "# 3.7 Média de Vítimas nos 10 anos"
      ],
      "metadata": {
        "id": "XP_dgQUpys9k"
      }
    },
    {
      "cell_type": "code",
      "source": [
        "import pandas as pd\n",
        "\n",
        "# Caminho para o arquivo CSV combinado\n",
        "caminho_combinado = '/content/violencia_domestica_combinado.csv'\n",
        "\n",
        "# Lê o arquivo CSV\n",
        "dados_combinados = pd.read_csv(caminho_combinado)\n",
        "\n",
        "# Calcula a média de vítimas para todo o período\n",
        "media_total = dados_combinados['qtde_vitimas'].mean()\n",
        "\n",
        "# Exibe a média total\n",
        "print(f'Média total de vítimas ao longo dos 10 anos: {media_total:.2f}')"
      ],
      "metadata": {
        "colab": {
          "base_uri": "https://localhost:8080/"
        },
        "id": "c4aI4M82y3j-",
        "outputId": "9b8d2c14-6401-4630-fd86-cae71a265898"
      },
      "execution_count": 36,
      "outputs": [
        {
          "output_type": "stream",
          "name": "stdout",
          "text": [
            "Média total de vítimas ao longo dos 10 anos: 1.43\n"
          ]
        }
      ]
    },
    {
      "cell_type": "markdown",
      "source": [
        "# 3.8 Médias Anuais e Acumulada ao Longo de 10 Anos"
      ],
      "metadata": {
        "id": "Gm009zWQRG5A"
      }
    },
    {
      "cell_type": "code",
      "source": [
        "import pandas as pd\n",
        "\n",
        "# Caminho para o arquivo CSV combinado\n",
        "caminho_combinado = '/content/violencia_domestica_combinado.csv'\n",
        "\n",
        "# Lê o arquivo CSV\n",
        "dados_combinados = pd.read_csv(caminho_combinado)\n",
        "\n",
        "# Calcula as médias anuais\n",
        "medias_anuais = dados_combinados.groupby('ano')['qtde_vitimas'].mean().reset_index()\n",
        "\n",
        "# Calcula a média total ao longo dos 10 anos\n",
        "media_total = dados_combinados['qtde_vitimas'].mean()\n",
        "\n",
        "# Cria um DataFrame com as informações\n",
        "df_medias = pd.DataFrame({\n",
        "    'Ano': medias_anuais['ano'].tolist() + ['Média Total'],\n",
        "    'Média de Vítimas': medias_anuais['qtde_vitimas'].tolist() + [media_total]\n",
        "})\n",
        "\n",
        "# Exibe o DataFrame\n",
        "print(df_medias)\n"
      ],
      "metadata": {
        "colab": {
          "base_uri": "https://localhost:8080/"
        },
        "id": "_fDtRoIEzdmk",
        "outputId": "32430875-b767-4797-bdae-41fe8b00a913"
      },
      "execution_count": 37,
      "outputs": [
        {
          "output_type": "stream",
          "name": "stdout",
          "text": [
            "            Ano  Média de Vítimas\n",
            "0        2014.0          1.479253\n",
            "1        2015.0          1.455071\n",
            "2        2016.0          1.442619\n",
            "3        2017.0          1.440350\n",
            "4        2018.0          1.438509\n",
            "5        2019.0          1.446432\n",
            "6        2020.0          1.415549\n",
            "7        2021.0          1.404275\n",
            "8        2022.0          1.375063\n",
            "9        2023.0          1.394057\n",
            "10  Média Total          1.430635\n"
          ]
        }
      ]
    },
    {
      "cell_type": "markdown",
      "source": [
        "#3.9  Visualizações Gráficas\n",
        " Objetivo visualizar gráficos, como gráficos de barras para contagens de categorias ou gráficos de linha para tendências temporais."
      ],
      "metadata": {
        "id": "2m-l8suvv2U4"
      }
    },
    {
      "cell_type": "markdown",
      "source": [
        "# 3.10.1  Incidentes Tentado Consumado"
      ],
      "metadata": {
        "id": "n08RPegyuCcq"
      }
    },
    {
      "cell_type": "code",
      "source": [
        "import matplotlib.pyplot as plt\n",
        "import seaborn as sns\n",
        "\n",
        "# Gráfico de barras para contagem de categorias\n",
        "plt.figure(figsize=(10, 6))\n",
        "sns.countplot(x='tentado_consumado', data=dados_combinados)\n",
        "plt.title('Contagem de Incidentes por Tentado Consumado')\n",
        "plt.xlabel('tentado_consumado')\n",
        "plt.ylabel('Contagem')\n",
        "plt.xticks(rotation=45, ha='right')\n",
        "plt.show()\n"
      ],
      "metadata": {
        "colab": {
          "base_uri": "https://localhost:8080/",
          "height": 699
        },
        "id": "56EEf7UmyHbW",
        "outputId": "e6221c6a-3d17-4b83-b2f5-3c933a567ff2"
      },
      "execution_count": 6,
      "outputs": [
        {
          "output_type": "display_data",
          "data": {
            "text/plain": [
              "<Figure size 1000x600 with 1 Axes>"
            ],
            "image/png": "[encoded data removed]"
          },
          "metadata": {}
        }
      ]
    },
    {
      "cell_type": "markdown",
      "source": [
        "# 3.10.2 Distribuição Mensal de Ocorrências"
      ],
      "metadata": {
        "id": "S6TGKJWOt1g6"
      }
    },
    {
      "cell_type": "code",
      "source": [
        "import pandas as pd\n",
        "import matplotlib.pyplot as plt\n",
        "import seaborn as sns\n",
        "\n",
        "# Caminho para o arquivo CSV combinado\n",
        "caminho_combinado = '/content/violencia_domestica_combinado.csv'\n",
        "\n",
        "# Lê o arquivo CSV\n",
        "dados_combinados = pd.read_csv(caminho_combinado)\n",
        "\n",
        "plt.figure(figsize=(10, 6))\n",
        "sns.countplot(data=dados_combinados, x='mes')\n",
        "plt.title('Distribuição Mensal de Ocorrências')\n",
        "plt.xlabel('Mês')\n",
        "plt.ylabel('Contagem de Ocorrências')\n",
        "plt.show()\n",
        "\n",
        "\n"
      ],
      "metadata": {
        "colab": {
          "base_uri": "https://localhost:8080/",
          "height": 565
        },
        "id": "pHG98JhujbET",
        "outputId": "9762937b-0af2-45b2-fc92-07bf94dec0b7"
      },
      "execution_count": 10,
      "outputs": [
        {
          "output_type": "display_data",
          "data": {
            "text/plain": [
              "<Figure size 1000x600 with 1 Axes>"
            ],
            "image/png": "[encoded data removed]"
          },
          "metadata": {}
        }
      ]
    },
    {
      "cell_type": "markdown",
      "source": [
        "# 3.10.3 Distribuição de Crimes Consumados e Tentados"
      ],
      "metadata": {
        "id": "ASISDOg3tmmf"
      }
    },
    {
      "cell_type": "code",
      "source": [
        "import pandas as pd\n",
        "import matplotlib.pyplot as plt\n",
        "import seaborn as sns\n",
        "\n",
        "# Caminho para o arquivo CSV combinado\n",
        "caminho_combinado = '/content/violencia_domestica_combinado.csv'\n",
        "\n",
        "# Lê o arquivo CSV\n",
        "dados_combinados = pd.read_csv(caminho_combinado)\n",
        "\n",
        "plt.figure(figsize=(8, 6))\n",
        "sns.countplot(data=dados_combinados, x='tentado_consumado')\n",
        "plt.title('Distribuição de Crimes Consumados e Tentados')\n",
        "plt.xlabel('Tipo de Crime')\n",
        "plt.ylabel('Contagem de Ocorrências')\n",
        "plt.show()\n"
      ],
      "metadata": {
        "colab": {
          "base_uri": "https://localhost:8080/",
          "height": 564
        },
        "id": "bcs3uMfHjbKk",
        "outputId": "909ab028-6d13-4185-fab5-e84f294203b6"
      },
      "execution_count": 12,
      "outputs": [
        {
          "output_type": "display_data",
          "data": {
            "text/plain": [
              "<Figure size 800x600 with 1 Axes>"
            ],
            "image/png": "[encoded data removed]"
          },
          "metadata": {}
        }
      ]
    },
    {
      "cell_type": "markdown",
      "source": [
        "# 3.10.4 Médias Anuais de Vítimas de Violência Doméstica"
      ],
      "metadata": {
        "id": "i40h_WGOuNjp"
      }
    },
    {
      "cell_type": "code",
      "source": [
        "import pandas as pd\n",
        "import matplotlib.pyplot as plt\n",
        "\n",
        "# Caminho para o arquivo CSV combinado\n",
        "caminho_combinado = '/content/violencia_domestica_combinado.csv'\n",
        "\n",
        "# Lê o arquivo CSV\n",
        "dados_combinados = pd.read_csv(caminho_combinado)\n",
        "\n",
        "# Calcula a média anual de vítimas\n",
        "media_vitimas_anual = dados_combinados.groupby('ano')['qtde_vitimas'].mean()\n",
        "\n",
        "# Plota o gráfico de médias anuais de vítimas\n",
        "plt.figure(figsize=(10, 6))\n",
        "media_vitimas_anual.plot(marker='o', linestyle='-', color='b')\n",
        "plt.title('Médias Anuais de Vítimas de Violência Doméstica')\n",
        "plt.xlabel('Ano')\n",
        "plt.ylabel('Média de Vítimas por Ocorrência')\n",
        "plt.grid(True)\n",
        "plt.show()\n"
      ],
      "metadata": {
        "colab": {
          "base_uri": "https://localhost:8080/",
          "height": 564
        },
        "id": "dQHZTmDDj6_V",
        "outputId": "31bd2e0d-cdf0-4f0f-d77b-07b41eaa396c"
      },
      "execution_count": 13,
      "outputs": [
        {
          "output_type": "display_data",
          "data": {
            "text/plain": [
              "<Figure size 1000x600 with 1 Axes>"
            ],
            "image/png": "[encoded data removed]"
          },
          "metadata": {}
        }
      ]
    },
    {
      "cell_type": "markdown",
      "source": [
        "# 3.10.5 Comparação da Média Anual com a Média Total (2014-2023)"
      ],
      "metadata": {
        "id": "j-nmoViJ0KP5"
      }
    },
    {
      "cell_type": "code",
      "source": [
        "import pandas as pd\n",
        "import matplotlib.pyplot as plt\n",
        "\n",
        "# Cria um DataFrame com as médias anuais\n",
        "medias_anuais = pd.DataFrame({\n",
        "    'Ano': [2014, 2015, 2016, 2017, 2018, 2019, 2020, 2021, 2022, 2023],\n",
        "    'Média Anual': [1.478837, 1.453979, 1.442129, 1.439600, 1.437785, 1.445107, 1.414753, 1.403863, 1.374622, 1.393180]\n",
        "})\n",
        "\n",
        "# Calcula a média total ao longo dos 10 anos\n",
        "media_total = medias_anuais['Média Anual'].mean()\n",
        "\n",
        "# Cria o gráfico de barras agrupadas\n",
        "plt.figure(figsize=(10, 6))\n",
        "plt.bar(medias_anuais['Ano'], medias_anuais['Média Anual'], label='Média Anual')\n",
        "plt.axhline(y=media_total, color='red', linestyle='--', label='Média Total')\n",
        "plt.title('Comparação da Média Anual com a Média Total (2014-2023)')\n",
        "plt.xlabel('Ano')\n",
        "plt.ylabel('Média de Vítimas')\n",
        "plt.legend()\n",
        "plt.show()\n"
      ],
      "metadata": {
        "id": "eRP-T5i0Bvri",
        "colab": {
          "base_uri": "https://localhost:8080/",
          "height": 565
        },
        "outputId": "580098f7-d325-4cc5-bd8a-82630150c8e0"
      },
      "execution_count": 39,
      "outputs": [
        {
          "output_type": "display_data",
          "data": {
            "text/plain": [
              "<Figure size 1000x600 with 1 Axes>"
            ],
            "image/png": "[encoded data removed]"
          },
          "metadata": {}
        }
      ]
    },
    {
      "cell_type": "markdown",
      "source": [
        "# 4.0 FUNDAMENTAÇÃO E DEFINIÇÃO DO MÉTODO A SER APLICADO\n",
        "  \n",
        "**- Método a ser Aplcado: Analítico de Classificação**\n",
        "\n",
        "A Análise Exploratória dos dados, nas detalhadas informações importantes que nos orientou para as próximas etapas do projeto.\n",
        "\n",
        "Um ponto que nos chamou atenção foi a média mensal de ocorrências (6.38/m), esse dado nos revela uma distribuição relativamente uniforme ao longo do ano, indicando uma dinâmica estável nas incidências. Notavelmente, os meses de março e setembro se destacam como períodos em que ocorrem os picos mais significativos de ocorrências.\n",
        "\n",
        "Também, observamos uma predominância de ocorrências em cidades do interior, ressaltando a necessidade de estratégias específicas para abordar questões locais nessas áreas. A diversidade de crimes é impressionante, com aproximadamente 361 tipos distintos de violência contra a mulher identificados, sendo a ameaça o tipo mais frequente.\n",
        "Uma descoberta intrigante desta análise inicial é a proporção significativa de crimes consumados. Esta observação sugere a urgência de estratégias preventivas eficazes para interromper a concretização desses atos violentos.\n",
        "\n",
        "Outro ponto de destaque é a média de vítimas por incidente, que se estabelece em 1.43. Isso indica predominantemente casos envolvendo uma única vítima.\n",
        "\n",
        "Essas informações nos forneceram insights valiosos para a escolha do método analítico a ser usado, pois a pequena flutuação das médias do número de vítimas de violência doméstica ao longo de 10 anos, demostra que as políticas de prevenção, se existirem, não estão sendo efetivas em proteger e diminuir os números de mulheres vítimas de violência. Essa constatação nos direcionou a aplicar o método analítico de classificação, e assim alinhar a condução desse projeto ao objetivo principal que é desenvolver uma ferramenta preditiva que possa auxiliar o sistema de segurança pública no monitoramento preventivo de vítima de violência."
      ],
      "metadata": {
        "id": "eDd6ZCOsSDlX"
      }
    },
    {
      "cell_type": "markdown",
      "source": [
        "# 5.0  AVALIAÇÃO DA PRECISÃO- DEFINIÇÃO DO CÁLCULO DA ACURÁCIA\n",
        "**Definição do Percentual da Acurácia: Intervalo entre 50% e 60%.**\n",
        "\n",
        "Não existe um percentual padrão de acurácia, uma vez que o desempenho de um modelo pode variar significativamente, dependendo da natureza específica do problema e dos objetivos do projeto. Além disso, outros fatores, como diferentes cenários e contextos, devem ser criteriosamente considerados durante as análises. Neste contexto, decidimos que uma acurácia situada entre 50% e 60% representam um patamar considerável de precisão. Essa avaliação ganha relevância ao ser contextualizada diante da complexidade e diversidade dos dados relacionados à violência contra a mulher.\n",
        "\n",
        "**Divisão das Bases de Dados: Serão divididas em  70/30, podendo ser 80/20.**\n",
        "\n",
        "Para conduzir a análise preditiva, optaremos pela técnica de avaliação cruzada temporal. Nesse processo, treinaremos o modelo com dados de um período anterior e o testaremos com dados mais recentes, simulando situações de previsão real. A divisão das bases será efetuada na proporção de 70/30, podendo ser ajustada para 80/20 conforme necessário. As bases mais recentes serão reservadas para o conjunto de teste, enquanto as mais antigas serão utilizadas no treinamento do modelo. Essa abordagem visa garantir uma avaliação robusta e realista do desempenho preditivo do modelo ao longo do tempo."
      ],
      "metadata": {
        "id": "fL0FYfejT4UE"
      }
    }
  ]
}
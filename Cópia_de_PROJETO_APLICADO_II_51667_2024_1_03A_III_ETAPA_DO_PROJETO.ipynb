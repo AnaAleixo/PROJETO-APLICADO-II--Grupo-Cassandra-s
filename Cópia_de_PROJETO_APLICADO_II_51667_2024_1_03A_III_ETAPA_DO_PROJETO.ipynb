{
  "nbformat": 4,
  "nbformat_minor": 0,
  "metadata": {
    "colab": {
      "provenance": [],
      "authorship_tag": "ABX9TyNHnEvwOfdG429Hkbf2L2ye",
      "include_colab_link": true
    },
    "kernelspec": {
      "name": "python3",
      "display_name": "Python 3"
    },
    "language_info": {
      "name": "python"
    }
  },
  "cells": [
    {
      "cell_type": "markdown",
      "metadata": {
        "id": "view-in-github",
        "colab_type": "text"
      },
      "source": [
        "<a href=\"https://colab.research.google.com/github/AnaAleixo/PROJETO-APLICADO-II--Grupo-Cassandra-s/blob/main/C%C3%B3pia_de_PROJETO_APLICADO_II_51667_2024_1_03A_III_ETAPA_DO_PROJETO.ipynb\" target=\"_parent\"><img src=\"https://colab.research.google.com/assets/colab-badge.svg\" alt=\"Open In Colab\"/></a>"
      ]
    },
    {
      "cell_type": "markdown",
      "source": [
        "![image.png](data:image/png;base64,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)"
      ],
      "metadata": {
        "id": "4a7RuWUzu9K9"
      }
    },
    {
      "cell_type": "markdown",
      "source": [
        "# PROJETO APLICADO II - CURSO TECNOLOGIA EM CIENCIA DE DADOS - ANO 2024 - 1º SEMESTRE - TURMA 03A\n",
        "\n",
        "Este projeto faz parte dos requisitos da atividade de conclusão da disciplina do Projeto Aplicado II, do Curso de Tecnologia em Ciência de Dados. Realizado no 1º Semestre de 2024, Turma 03A. O objetivo é aplicar os conhecimentos adquiridos ao longo do curso para abordar uma questão relevante, neste caso, a análise e prevenção da violência contra a mulher, com recorte no estado de Minas Gerais."
      ],
      "metadata": {
        "id": "uAxvJEBwu9N_"
      }
    },
    {
      "cell_type": "markdown",
      "source": [
        "# INTRODUÇÃO\n",
        "A violência contra a mulher é uma questão alarmante e persistentemente presente na sociedade brasileira, exigindo abordagens inovadoras para prevenção e intervenção. Neste contexto, este projeto visa analisar os números de violência contra a mulher, com recorte no estado de Minas Gerais, utilizando dados disponíveis no \"Sistema Nacional de Estatísticas de Segurança Pública - Municípios\". A meta é entender a extensão do problema, e estudar a possibilidade de criar uma ferramenta preditiva que identifique locais mais propensos à violência contra a mulher, proporcionando alertas para a implementação de medidas preventivas eficazes.\n",
        "\n",
        "##Exigências da atividade do A3 - Aplicando Conhecimento (atividade em grupo)\n",
        "\n",
        "Para atender aos requisitos da terceira aula, compartilhamos as informações essenciais para o desenvolvimento do projeto:\n"
      ],
      "metadata": {
        "id": "yjqK20ESu9Q-"
      }
    },
    {
      "cell_type": "markdown",
      "source": [
        "# PROJETO-APLICADO-II--Grupo-Cassandra's 🚀\n",
        "\n",
        "- INTEGRANTES\n",
        "\n",
        "    - Ana Lima Aleixo\n",
        "\n",
        "    - Maressa Bonassoli\n",
        "\n",
        "    - Ana Chung ti Kam\n",
        "    \n",
        "    - Iasmin Melo"
      ],
      "metadata": {
        "id": "o8J4SvXdvdrC"
      }
    },
    {
      "cell_type": "markdown",
      "source": [
        "# FASE III DO PROJETO APLICADO II\n",
        "**Na Fase III do Projeto, iremos cumprir os seguintes requisitos para a entrega da Atividade III:**\n",
        "\n",
        "**1.0)** Consolidar os resultados do método analítico, definido na etapa anterior, aplicado à base de dados escolhida com padrão.\n",
        "\n",
        "**2.0)** Aplicar as medidas de acurácia para verificar o desempenho dos métodos definidos na etapa anterior.\n",
        "\n",
        "**3.0)** Descrever os resultados preliminares, apresentando um produto gerado, e rascunhando um possível modelo de negócios.\n",
        "\n",
        "**4.0)** Esboço do storytelling."
      ],
      "metadata": {
        "id": "bV2jFHW4vdwx"
      }
    },
    {
      "cell_type": "markdown",
      "source": [
        "#**1.0)** CONSOLIDAR OS RESULTADOS DO MÉTODO ANALÍTICO, DEFINIDO NA ETAPA ANTERIOR, APLICADO À BASE DE DADOS ESCOLHIDA COM PADRÃO"
      ],
      "metadata": {
        "id": "4o1lwo7ogMjm"
      }
    },
    {
      "cell_type": "markdown",
      "source": [
        "# **1.1**) SEPARANDO AS BASES EM CONJUNTOS DE TREINO E TESTE"
      ],
      "metadata": {
        "id": "1wsoXCUQIJhE"
      }
    },
    {
      "cell_type": "code",
      "source": [
        "# Importar as bibliotecas necessárias\n",
        "import pandas as pd\n",
        "from sklearn.model_selection import train_test_split\n",
        "from sklearn.ensemble import RandomForestClassifier\n",
        "from sklearn.metrics import accuracy_score\n",
        "\n",
        "# Carregar o DataFrame combinado\n",
        "df = pd.read_csv(\"/content/violencia_domestica_combinado.csv\")\n",
        "\n",
        "# Verificar o formato do DataFrame\n",
        "print(\"Formato do DataFrame:\", df.shape)\n",
        "\n",
        "# Visualizar as primeiras linhas do DataFrame\n",
        "print(df.head())\n"
      ],
      "metadata": {
        "colab": {
          "base_uri": "https://localhost:8080/"
        },
        "id": "TXMJdQijIaa4",
        "outputId": "92d9cb5c-e333-4da2-d23d-78c2ee25ef66"
      },
      "execution_count": null,
      "outputs": [
        {
          "output_type": "stream",
          "name": "stdout",
          "text": [
            "Formato do DataFrame: (668942, 7)\n",
            "        municipio_fato  mes     ano               rmbh  \\\n",
            "0  ABADIA DOS DOURADOS  1.0  2014.0  3) Interior de MG   \n",
            "1           ABRE-CAMPO  1.0  2014.0  3) Interior de MG   \n",
            "2              ACAIACA  1.0  2014.0  3) Interior de MG   \n",
            "3             AGUA BOA  1.0  2014.0  3) Interior de MG   \n",
            "4             AGUA BOA  1.0  2014.0  3) Interior de MG   \n",
            "\n",
            "           natureza_delito tentado_consumado  qtde_vitimas  \n",
            "0                     DANO         CONSUMADO           1.0  \n",
            "1           LESAO CORPORAL         CONSUMADO           1.0  \n",
            "2                   AMEACA         CONSUMADO           1.0  \n",
            "3                   AMEACA         CONSUMADO           1.0  \n",
            "4  VIAS DE FATO / AGRESSAO         CONSUMADO           1.0  \n"
          ]
        }
      ]
    },
    {
      "cell_type": "markdown",
      "source": [
        "# **1.2**) CRIANDO MODELO DE CLASSIFICAÇÃO USANDO O RANDOMFORESTCLASSIFIER"
      ],
      "metadata": {
        "id": "8Z5wl_eJPnoD"
      }
    },
    {
      "cell_type": "code",
      "source": [
        "import pandas as pd\n",
        "from sklearn.model_selection import train_test_split\n",
        "from sklearn.ensemble import RandomForestClassifier\n",
        "from sklearn.metrics import accuracy_score\n",
        "from sklearn.impute import SimpleImputer\n",
        "\n",
        "# Carregar o DataFrame combinado\n",
        "df = pd.read_csv(\"/content/violencia_domestica_combinado.csv\")\n",
        "\n",
        "# Remover colunas de texto que não são importantes para o modelo\n",
        "X = df.drop(columns=['municipio_fato', 'rmbh', 'natureza_delito', 'tentado_consumado', 'qtde_vitimas'])\n",
        "\n",
        "# Preencher valores ausentes na coluna 'qtde_vitimas' com zero\n",
        "df['qtde_vitimas'] = df['qtde_vitimas'].fillna(0)\n",
        "\n",
        "# Converter 'qtde_vitimas' para tipo inteiro\n",
        "y = df['qtde_vitimas'].astype(int)\n",
        "\n",
        "# Dividir os dados em conjuntos de treino e teste (70% treino, 30% teste)\n",
        "X_train, X_test, y_train, y_test = train_test_split(X, y, test_size=0.3, random_state=42)\n",
        "\n",
        "# Criar um imputador para preencher os valores ausentes com a média\n",
        "imputer = SimpleImputer(strategy='mean')\n",
        "\n",
        "# Preencher os valores ausentes em X_train\n",
        "X_train_imputed = imputer.fit_transform(X_train)\n",
        "\n",
        "# Converter a matriz resultante de volta para um DataFrame\n",
        "X_train_imputed = pd.DataFrame(X_train_imputed, columns=X_train.columns)\n",
        "\n",
        "# Verificar se há valores ausentes em X_test e preencher, se necessário\n",
        "if X_test.isnull().any().any():\n",
        "    X_test_imputed = imputer.transform(X_test)\n",
        "    X_test_imputed = pd.DataFrame(X_test_imputed, columns=X_test.columns)\n",
        "else:\n",
        "    X_test_imputed = X_test.copy()\n",
        "\n",
        "# Criar e treinar o modelo RandomForestClassifier\n",
        "model = RandomForestClassifier(random_state=42)\n",
        "model.fit(X_train_imputed, y_train)\n",
        "\n",
        "# Prever os valores do conjunto de teste\n",
        "y_pred = model.predict(X_test_imputed)\n",
        "\n",
        "# Calcular a acurácia do modelo\n",
        "accuracy = accuracy_score(y_test, y_pred)\n",
        "print(\"Acurácia do modelo:\", accuracy)\n"
      ],
      "metadata": {
        "colab": {
          "base_uri": "https://localhost:8080/"
        },
        "id": "QEHOLo_9Kyt3",
        "outputId": "e6a21e5a-3d9b-45c7-a235-525245fb0641"
      },
      "execution_count": null,
      "outputs": [
        {
          "output_type": "stream",
          "name": "stdout",
          "text": [
            "Acurácia do modelo: 0.801468756941593\n"
          ]
        }
      ]
    },
    {
      "cell_type": "markdown",
      "source": [
        "#  **2.0**) APLICAR AS MEDIDAS DE ACURÁCIA PARA VERIFICAR O DESEMPENHO DOS MÉTODOS DEFINIDOS NA ETAPA ANTERIOR\n"
      ],
      "metadata": {
        "id": "y8JyqjTAgU-t"
      }
    },
    {
      "cell_type": "markdown",
      "source": [
        "# **2.1**) APLICAÇÃO DE MEDIDAS DE ACURÁCIA ADICIONAIS\n",
        "\n",
        " - **Recall**\n",
        " - **F1-score**"
      ],
      "metadata": {
        "id": "N436HV-ml-e4"
      }
    },
    {
      "cell_type": "code",
      "source": [
        "from sklearn.metrics import recall_score, f1_score\n",
        "\n",
        "# Calcular o recall\n",
        "recall = recall_score(y_test, y_pred, average='weighted')\n",
        "\n",
        "# Calcular o F1-score\n",
        "f1 = f1_score(y_test, y_pred, average='weighted')\n",
        "\n",
        "print(\"Recall do modelo:\", recall)\n",
        "print(\"F1-score do modelo:\", f1)\n"
      ],
      "metadata": {
        "colab": {
          "base_uri": "https://localhost:8080/"
        },
        "id": "h0K39dtZJIrk",
        "outputId": "793975f8-14d5-44b5-f165-72f40ba318f9"
      },
      "execution_count": null,
      "outputs": [
        {
          "output_type": "stream",
          "name": "stdout",
          "text": [
            "Recall do modelo: 0.801468756941593\n",
            "F1-score do modelo: 0.7131457088697434\n"
          ]
        }
      ]
    },
    {
      "cell_type": "markdown",
      "source": [
        "# **2.2**) EXPLICANDO O MODELO E OS RESULTADOS OBTIDOS\n",
        "- Começamos carregando os dados do arquivo CSV usando a função `pd.read_csv()` do pandas. Em seguida, realizamos um tratamento nos dados removendo as colunas de texto que não são relevantes para o modelo, mantendo apenas as features essenciais para a classificação. Observamos que a coluna 'qtde_vitimas' continha valores ausentes, optando por preenchê-los com zero utilizando o método `fillna(0)`.\n",
        "- Dividimos os dados em conjuntos de treino e teste, atribuindo 70% dos dados para treinamento e 30% para teste, utilizando a função `train_test_split()` do scikit-learn. Em seguida, aplicamos o `SimpleImputer` do scikit-learn para preencher os valores ausentes nas features com a média dos dados, garantindo assim que o modelo possa ser treinado e testado adequadamente.\n",
        "- Criamos uma instância do RandomForestClassifier e procedemos ao treinamento do modelo utilizando os dados de treinamento por meio do método `fit()`. Posteriormente, utilizamos o modelo treinado para fazer previsões sobre os dados de teste usando o método `predict()`.\n",
        "- Para avaliar o desempenho do modelo, calculamos sua acurácia comparando as previsões feitas com os valores reais do conjunto de teste, utilizando a função `accuracy_score()` do scikit-learn. Obtivemos uma acurácia do modelo de aproximadamente 80.15%, o que indica que o modelo classificou corretamente cerca de 80.15% dos casos no conjunto de teste.\n",
        "- Além disso, buscando uma avaliação mais completa, utilizamos outras métricas como o recall e o F1-score. O recall do modelo foi de aproximadamente 80.15%, indicando sua capacidade de identificar corretamente cerca de 80.15% dos casos positivos (vítimas de violência doméstica) no conjunto de teste. Já o F1-score do modelo foi de aproximadamente 0.713, revelando uma boa harmonia entre precisão e recall.\n",
        "- Esses resultados sugerem que o modelo apresenta um desempenho sólido, capaz de classificar corretamente tanto os casos positivos quanto os negativos, o que o torna uma opção viável para uso em produção.\n"
      ],
      "metadata": {
        "id": "2L4-Amr6haDw"
      }
    },
    {
      "cell_type": "markdown",
      "source": [
        "#**3.0**) DESCREVER OS RESULTADOS PRELIMINARES, APRESENTANDO UM PRODUTO GERADO, E RASCUNHANDO UM POSSÍVEL MODELO DE NEGÓCIOS"
      ],
      "metadata": {
        "id": "qrVibXvEiglx"
      }
    },
    {
      "cell_type": "markdown",
      "source": [
        "# **3.1**) DESCRIÇÃO DOS RESULTADOS PRELIMINARES\n",
        "\n",
        "**Produto Gerado**\n",
        "\n",
        "**Descrição do Produto**\n",
        "\n",
        "- Nosso produto é um modelo preditivo de violência contra a mulher, desenvolvido a partir da análise estatística da média dos casos de violência em **Minas Gerais**. Utilizando técnicas de aprendizado de máquina e baseando-se nos dados fornecidos pelo **\"Sistema Nacional de Estatísticas de Segurança Pública - Municípios\"**, o modelo tem como objetivo identificar áreas com maior probabilidade de ocorrência de violência contra a mulher. Além disso, busca avaliar a eficácia das políticas de prevenção existentes, proporcionando cenários para o aprimoramento dessas medidas e para a promoção de uma sociedade mais segura e igualitária para as mulheres.\n",
        "\n",
        "**Funcionalidades**\n",
        "\n",
        "-  **Previsão através da medição da média de incidentes:** O modelo é capaz de prever através da média de incidência de violência, se as políticas de prevenção estão sendo eficientes, tendo como base em dados históricos e características demográficas, socioeconômicas e geográficas\n",
        "- **Alertas de Prevenção:** O produto fornece alertas para autoridades policiais, órgãos governamentais e organizações de defesa dos direitos das mulheres sobre os locais identificados como de maior risco, permitindo a implementação de medidas preventivas e intervenções oportunas.\n",
        "\n",
        "**Potenciais Usuários**\n",
        " - **Autoridades Policiais:** Para o direcionamento de recursos e esforços de policiamento preventivo.\n",
        " - **Governos Estaduais e Municipais:** Para a formulação de políticas públicas e alocação de recursos para prevenção da violência contra a mulher.\n",
        " - **ONGs e Instituições de Defesa dos Direitos das Mulheres:** Para promover a conscientização e mobilização da sociedade civil na prevenção e combate à violência doméstica.\n",
        "\n",
        "**Benefícios Esperados**\n",
        "- Redução da Incidência de Violência: Ao identificar e intervir precocemente em áreas de maior risco, espera-se uma redução na incidência de violência contra a mulher.\n",
        "- Melhor Alocação de Recursos: A alocação eficiente de recursos e esforços para prevenção pode maximizar o impacto das políticas públicas na proteção das mulheres.\n",
        "- Conscientização e Mobilização: O produto pode contribuir para aumentar a conscientização sobre o problema da violência contra a mulher e mobilizar a sociedade para ações de prevenção e apoio às vítimas.\n"
      ],
      "metadata": {
        "id": "-HxvzMnQijfS"
      }
    },
    {
      "cell_type": "markdown",
      "source": [
        "#**3.2**) MODELO DE NEGÓCIO\n",
        "\n",
        "**Segmento de Cliente**\n",
        "- **Autoridades de Segurança Pública**\n",
        "- **Governos Estaduais e Municipais**\n",
        "- **ONGs e Instituições de Defesa dos Direitos das Mulheres**\n",
        "\n",
        "**Proposta de Valor**\n",
        "- **Prevenção e Intervenção Precoces:** Capacidade de identificar áreas de maior risco e tomar medidas preventivas antes que ocorram incidentes de violência.\n",
        "- **Eficiência na Alocação de Recursos:** Otimização da alocação de recursos para prevenção da violência contra a mulher com base em análises preditivas.\n",
        "- **Conscientização e Engajamento:** Contribuição para a conscientização e mobilização da sociedade civil na prevenção e combate à violência doméstica.\n",
        "\n",
        "**Canais de Distribuição**\n",
        "- **Plataforma Online:** Disponibilização do produto por meio de uma plataforma online acessível a autoridades, governos e organizações interessadas.\n",
        "- **Parcerias Governamentais:** Estabelecimento de parcerias estratégicas com órgãos governamentais para a distribuição e implementação do produto.\n",
        "\n",
        "**Relacionamento com o Cliente**\n",
        "- **Suporte Técnico:** Oferta de suporte técnico para a implementação e utilização do produto.\n",
        "- **Treinamento:** Realização de treinamentos para capacitar os usuários na interpretação e utilização dos resultados gerados pelo modelo.\n",
        "- **Atualizações Regulares:** Fornecimento de atualizações regulares do produto com base em novos dados e avanços tecnológicos.\n",
        "\n",
        "**Fontes de Receita**\n",
        "- **Vendas Diretas:** Venda do produto para clientes interessados, com base em assinaturas ou licenciamento de uso.\n",
        "- **Parcerias Estratégicas:** Estabelecimento de parcerias estratégicas com governos e organizações para o financiamento e implementação do produto.\n",
        "\n",
        "Este modelo de negócios tem como objetivo principal fornecer uma solução eficaz e inovadora para a prevenção da violência contra a mulher em Minas Gerais, contribuindo para a construção de uma sociedade mais segura e justa para as mulheres.\n"
      ],
      "metadata": {
        "id": "r8U5ytsLlQ0m"
      }
    },
    {
      "cell_type": "markdown",
      "source": [
        "# **4.0**) ESBOÇO DO STORYTELLING"
      ],
      "metadata": {
        "id": "wmaI9r16uPK1"
      }
    },
    {
      "cell_type": "markdown",
      "source": [
        "# **4.1**) STORYTELLING DO PROJETO\n",
        "\n",
        "**Combatendo a Violência contra a Mulher em Minas Gerais**\n",
        "\n",
        "Era uma vez Minas Gerais, um estado rico em história e cultura, mas também marcado por um problema sério: a violência contra a mulher. Diante desse desafio, um grupo de pesquisadoras e especialistas em Ciência de Dados decidiu unir forças para enfrentar essa questão de frente.\n",
        "\n",
        "Tudo começou com a **fase I do projeto**, onde mergulharam fundo nos dados disponíveis sobre violência doméstica e de gênero. Eles estudaram relatórios oficiais, analisaram estatísticas e ouviram histórias de sobreviventes. Cada número, cada relato humano, ajudou a pintar um quadro mais claro da situação.\n",
        "\n",
        "Munidas com o conhecimento adquirido na fase I, passam para **a fase II**, onde exploram soluções tecnológicas. Elas desenvolvem algoritmos sofisticados, criam modelos preditivos e experimentam diferentes abordagens de machine learning. O objetivo é claro: usar a tecnologia para identificar padrões, prever ocorrências e, assim, ajudar na prevenção da violência.\n",
        "\n",
        "Chega então **a fase III**, onde consolidam os resultados obtidos e partem para a ação. Criam um modelo preditivo de violência contra a mulher, baseado em dados reais e análises estatísticas. Este modelo não só prevê aumento nas ocorrências, mas também fornece insights para autoridades, governos e organizações de defesa dos direitos das mulheres.\n",
        "\n",
        "O produto final é mais do que uma simples ferramenta. É uma promessa de esperança, para tantas mulheres que sofrem em silêncio. Com ele, as autoridades podem direcionar recursos de forma mais eficaz, os governos podem formular políticas públicas mais assertivas e as ONGs podem ampliar seu alcance.\n",
        "\n",
        "À medida que o projeto avançar, almejamos que seu impacto seja sentido em todo o estado. A incidência de violência diminua, as políticas de prevenção se tornem mais eficazes e a conscientização da sociedade cresça. E que Minas Gerais caminhe em direção a um futuro mais seguro e igualitário para todas as suas mulheres.\n",
        "\n",
        "E assim, uma jornada que começou com dados e tecnologia se transforma em uma história de esperança e mudança. Graças ao trabalho árduo e à dedicação daquelas que se recusaram a aceitar a violência como algo inevitável, Minas Gerais irá trilhar um novo caminho, rumo a um futuro onde todas as mulheres possam viver livres do medo e da opressão.\n"
      ],
      "metadata": {
        "id": "9Gtrpw2kuLZ5"
      }
    }
  ]
}